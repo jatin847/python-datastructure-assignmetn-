{
 "cells": [
  {
   "cell_type": "markdown",
   "id": "3754e150-3fab-4bd6-87a9-9620f8e1d7c8",
   "metadata": {},
   "source": [
    "1.Write a code to reverse a string "
   ]
  },
  {
   "cell_type": "code",
   "execution_count": 3,
   "id": "bfeea9f1-7ede-42bc-8571-e79d005fbbfd",
   "metadata": {},
   "outputs": [
    {
     "data": {
      "text/plain": [
       "'olleh'"
      ]
     },
     "execution_count": 3,
     "metadata": {},
     "output_type": "execute_result"
    }
   ],
   "source": [
    "sting_r=\"hello\"\n",
    "sting_r[::-1]"
   ]
  },
  {
   "cell_type": "markdown",
   "id": "4d957920-0396-4145-84df-f647edef6c31",
   "metadata": {},
   "source": [
    "2.Write a code to count the vowels in the string"
   ]
  },
  {
   "cell_type": "code",
   "execution_count": 6,
   "id": "7bceb7c9-8e2b-405a-8f53-9f7b75912926",
   "metadata": {},
   "outputs": [
    {
     "name": "stdout",
     "output_type": "stream",
     "text": [
      "3\n"
     ]
    }
   ],
   "source": [
    "def count(string):\n",
    "    vowels='aeiouAEIOU'\n",
    "    count=0\n",
    "    for i in string:\n",
    "        if i in vowels:\n",
    "           count+=1\n",
    "    return count \n",
    "string = \"hello sir\"\n",
    "print ( count(string))\n",
    "    \n"
   ]
  },
  {
   "cell_type": "markdown",
   "id": "56d29b27-99c6-4f5b-95e9-5d40c5cec30f",
   "metadata": {},
   "source": [
    "3. Write a code to check if given string is palindrome or not "
   ]
  },
  {
   "cell_type": "code",
   "execution_count": 9,
   "id": "40ed3840-e946-4609-aabf-32557eb58d77",
   "metadata": {},
   "outputs": [
    {
     "name": "stdout",
     "output_type": "stream",
     "text": [
      "Yes\n"
     ]
    }
   ],
   "source": [
    "def isPalindrome(s):\n",
    "    return s == s[::-1]\n",
    " \n",
    " \n",
    "# Driver code\n",
    "s = \"kayak\"\n",
    "ans = isPalindrome(s)\n",
    " \n",
    "if ans:\n",
    "    print(\"Yes\")\n",
    "else:\n",
    "    print(\"No\")"
   ]
  },
  {
   "cell_type": "markdown",
   "id": "b25ad76c-08e1-4803-85db-109d316141c1",
   "metadata": {},
   "source": [
    "4. Write a code to check if two given strings are anagrams to each other."
   ]
  },
  {
   "cell_type": "code",
   "execution_count": 3,
   "id": "f422323b-708a-4711-8aed-51206bc37a39",
   "metadata": {},
   "outputs": [
    {
     "name": "stdout",
     "output_type": "stream",
     "text": [
      "strings are not anagrams\n"
     ]
    }
   ],
   "source": [
    "\n",
    "def is_ar (str1 ,str2):\n",
    "    str1=str1.replace( \" \",\"\").lower()\n",
    "    str2= str2.replace(\" \",\"\").lower()\n",
    "    if len(str1) != len(str2):\n",
    "       return False \n",
    "    return sorted(str1) == sorted(str2)\n",
    "\n",
    "\n",
    "s1= \" hello\"\n",
    "s2 = \" ello\" \n",
    "\n",
    "if is_ar(s1,s2):\n",
    "    print( \" string are anagrams\")\n",
    "else:\n",
    "    print(\"strings are not anagrams\")\n",
    "    \n"
   ]
  },
  {
   "cell_type": "markdown",
   "id": "1ea5a32e-3fdb-46a7-be4e-3531b38451d5",
   "metadata": {},
   "source": [
    "5. Write a Code to find all occurrences of a given substring within another string."
   ]
  },
  {
   "cell_type": "code",
   "execution_count": 45,
   "id": "a54548b7-96d8-41cc-8fa0-6b1c468998a1",
   "metadata": {},
   "outputs": [
    {
     "name": "stdout",
     "output_type": "stream",
     "text": [
      "3\n"
     ]
    }
   ],
   "source": [
    "def occurence(string):\n",
    "    substring=\"hii\"\n",
    "    ocurr=0\n",
    "    parts=string.split(\",\")\n",
    "    for part in parts: \n",
    "        if substring in  part:\n",
    "            ocurr+=1\n",
    "    return ocurr\n",
    "string= \" hii ,hii,hii,hello\"\n",
    "print(occurence(string))"
   ]
  },
  {
   "cell_type": "markdown",
   "id": "8602374c-be62-4647-84c1-f85265e0b8b7",
   "metadata": {},
   "source": [
    "6. Write a code to perform basic string compression using the count of repeated characters ."
   ]
  },
  {
   "cell_type": "code",
   "execution_count": 50,
   "id": "a1d6eb55-6a51-4590-94b0-cf381494221d",
   "metadata": {},
   "outputs": [
    {
     "name": "stdout",
     "output_type": "stream",
     "text": [
      "Compressed string: a2b3c4d2\n"
     ]
    }
   ],
   "source": [
    "def string_compression(input_string):\n",
    "    compressed_string = \"\"\n",
    "    count = 1\n",
    "    for i in range(len(input_string) - 1):\n",
    "        if input_string[i] == input_string[i + 1]:\n",
    "            count += 1\n",
    "        else:\n",
    "            compressed_string += input_string[i] + str(count)\n",
    "            count = 1\n",
    "    compressed_string += input_string[-1] + str(count)\n",
    "    return compressed_string if len(compressed_string) < len(input_string) else input_string\n",
    "input_string = \"aabbbccccdd\"              \n",
    "compressed_string = string_compression(input_string) \n",
    "print(\"Compressed string:\", compressed_string)\n"
   ]
  },
  {
   "cell_type": "markdown",
   "id": "13c9ff71-ac29-4e33-8385-a6d9e15a96c1",
   "metadata": {},
   "source": [
    "7. Write a code to determine if a string has all unique characters ."
   ]
  },
  {
   "cell_type": "code",
   "execution_count": 6,
   "id": "ae2240e9-40ff-46d4-af6b-0f275f1903fb",
   "metadata": {},
   "outputs": [
    {
     "name": "stdout",
     "output_type": "stream",
     "text": [
      "False\n",
      "True\n"
     ]
    }
   ],
   "source": [
    "def has_unique_characters(string):\n",
    "    seen=set()\n",
    "    for char in string :\n",
    "        if char in seen:\n",
    "            return False \n",
    "        else:\n",
    "            seen.add(char)\n",
    "    return True \n",
    "string1=\"hello\"\n",
    "string2=\"hi\"\n",
    "print(has_unique_characters(string1))\n",
    "print(has_unique_characters(string2))"
   ]
  },
  {
   "cell_type": "markdown",
   "id": "6cb19c0c-47de-40d3-82f0-91ed2381d382",
   "metadata": {},
   "source": [
    "8.Write a code to convert a given string to uppercase or lowercase."
   ]
  },
  {
   "cell_type": "code",
   "execution_count": 16,
   "id": "36882c68-6150-4212-84b4-eea8fd8b5341",
   "metadata": {},
   "outputs": [
    {
     "name": "stdout",
     "output_type": "stream",
     "text": [
      "HELLO\n"
     ]
    }
   ],
   "source": [
    "def uorl (string , case):\n",
    "    if case == \"lower\":\n",
    "        string=string.upper()\n",
    "    if case == \"upper\" :\n",
    "        string=string.lower() \n",
    "\n",
    "    return string \n",
    "string1=\"hello\"\n",
    "case1=\"lower\"\n",
    "func=uorl(string1,case1)\n",
    "print(func)"
   ]
  },
  {
   "cell_type": "markdown",
   "id": "f823862b-82ef-4909-9bb9-613f23c26714",
   "metadata": {},
   "source": [
    "9. Write a code to count the number of word in the string "
   ]
  },
  {
   "cell_type": "code",
   "execution_count": 19,
   "id": "be6e5677-e3b7-4155-bd04-485f09a3191f",
   "metadata": {},
   "outputs": [
    {
     "name": "stdout",
     "output_type": "stream",
     "text": [
      "3\n"
     ]
    }
   ],
   "source": [
    "def counting(string_x):\n",
    "    words=string_x.split()#split is used here to divide the string into words on the basis of some parameters likes whitespaces and commas \n",
    "    numofwords=len(words)\n",
    "    return numofwords\n",
    "input=\"hello, hello ,fff \"\n",
    "count=counting(input)\n",
    "print(count)    "
   ]
  },
  {
   "cell_type": "markdown",
   "id": "3a9d7f97-6f73-4281-a01e-0b985843bda4",
   "metadata": {},
   "source": [
    "10. Write a code to concatenate two string without using the + operator. "
   ]
  },
  {
   "cell_type": "code",
   "execution_count": 24,
   "id": "7d72f0ba-541f-4af7-b336-47eba76c7366",
   "metadata": {},
   "outputs": [
    {
     "name": "stdout",
     "output_type": "stream",
     "text": [
      "Helloworld\n"
     ]
    }
   ],
   "source": [
    "def concatenate_strings(str1, str2):\n",
    "    return \"\".join([str1, str2]) #join function is used here to concatenate the strings \n",
    "\n",
    "# Example usage:\n",
    "string1 = \"Hello\"\n",
    "string2 = \"world\"\n",
    "result = concatenate_strings(string1, string2)\n",
    "print(result)"
   ]
  },
  {
   "cell_type": "markdown",
   "id": "016b2d3d-ece3-4107-bc11-dc7daa8e89a6",
   "metadata": {},
   "source": [
    "11. Write a code to remove all occurence of a specific element from a list."
   ]
  },
  {
   "cell_type": "code",
   "execution_count": 29,
   "id": "cdd58d4e-cc69-4f4f-b213-62d7b0775cbb",
   "metadata": {},
   "outputs": [
    {
     "name": "stdout",
     "output_type": "stream",
     "text": [
      "['hello']\n"
     ]
    }
   ],
   "source": [
    "def delete_occ(list,el):\n",
    "    return[ x for x in list if x!=el]       \n",
    "l=[ \"hii\" ,\"hii\" , \"hello\",\"hii\"]\n",
    "e= \"hii\"\n",
    "new_list= delete_occ(l,e)\n",
    "print(new_list)"
   ]
  },
  {
   "cell_type": "markdown",
   "id": "ef6a83a4-734c-4562-b414-c4b798d616b1",
   "metadata": {},
   "source": [
    "12. Implement a code to find the second largest number in a given list of integers."
   ]
  },
  {
   "cell_type": "code",
   "execution_count": 32,
   "id": "6f149ebb-615c-4cd1-8e09-fe2674522863",
   "metadata": {},
   "outputs": [
    {
     "name": "stdout",
     "output_type": "stream",
     "text": [
      "44\n"
     ]
    }
   ],
   "source": [
    "def second_l(list):\n",
    "    list.sort()\n",
    "    return list[-2]\n",
    "\n",
    "l=[ 3,44,5,56,6,7]\n",
    "s= second_l(l)\n",
    "print(s)"
   ]
  },
  {
   "cell_type": "markdown",
   "id": "91c4b7fb-574b-4cc8-8325-ecc5458070e3",
   "metadata": {},
   "source": [
    "13. Create a code to count the occurence of each element in a list and return a dictionary with element as keys and their counts as values "
   ]
  },
  {
   "cell_type": "code",
   "execution_count": 35,
   "id": "e1b61d1b-6535-4264-abd9-377394a94272",
   "metadata": {},
   "outputs": [
    {
     "name": "stdout",
     "output_type": "stream",
     "text": [
      "{4: 1}\n"
     ]
    }
   ],
   "source": [
    "def dict(list):\n",
    "    count_dict = {}\n",
    "    for i in list :\n",
    "        if i in count_dict:\n",
    "            count_dict[i]+=1\n",
    "        else :\n",
    "            count_dict[i]=1\n",
    "        return count_dict    \n",
    "l=[4,54,5,5,5,6,6,6,7,7]\n",
    "c= dict(l)\n",
    "print(dict(l))"
   ]
  },
  {
   "cell_type": "markdown",
   "id": "b58333ed-a7f7-413e-afe1-e03e83b8d6b9",
   "metadata": {},
   "source": [
    "14. Write a code to reverse a list in-place without using any built-in reverse functions."
   ]
  },
  {
   "cell_type": "code",
   "execution_count": 67,
   "id": "63410566-05f7-4072-aa44-46c1c987475f",
   "metadata": {},
   "outputs": [
    {
     "name": "stdout",
     "output_type": "stream",
     "text": [
      "[5, 5, 4, 4, 3, 3, 2, 1]\n"
     ]
    }
   ],
   "source": [
    "def function(lst):\n",
    "    l_index= 0\n",
    "    r_index=len(lst)-1\n",
    "    while l_index < r_index:\n",
    "        lst[l_index] , lst[r_index] = lst[r_index] , lst[l_index]\n",
    "        l_index +=1\n",
    "        r_index -=1\n",
    "    return lst    \n",
    "lis= [ 1,2,3,3,4,4,5,5]\n",
    "func=function(lis)\n",
    "print(func)\n",
    "    "
   ]
  },
  {
   "cell_type": "markdown",
   "id": "8a5c7dd5-bef2-4b81-b4cf-de296ea91417",
   "metadata": {},
   "source": [
    "15. Implement a code to find and remove all duplicates from a list while preserving the original order of elements."
   ]
  },
  {
   "cell_type": "code",
   "execution_count": 41,
   "id": "53568689-c2af-4247-9cd8-2388ddfa785f",
   "metadata": {},
   "outputs": [
    {
     "name": "stdout",
     "output_type": "stream",
     "text": [
      "['hii', 'hello']\n"
     ]
    }
   ],
   "source": [
    "def function(lis):\n",
    "    count=set()\n",
    "    result=[]\n",
    "    for i in lis:\n",
    "        if i not in count :\n",
    "           result.append(i)\n",
    "           count.add(i) \n",
    "        \n",
    "            \n",
    "    return result\n",
    "list1=[\"hii\" , \"hii\" , \"hello\" , \"hello\"]\n",
    "a = function(list1)\n",
    "print(a)"
   ]
  },
  {
   "cell_type": "markdown",
   "id": "818c2a45-7d29-47a2-bcf3-455be26ef95e",
   "metadata": {},
   "source": [
    "16. Create a code to check if a given list is sorted(either in ascending order or descending order ) or not . "
   ]
  },
  {
   "cell_type": "code",
   "execution_count": 44,
   "id": "c96864e8-0127-42ca-950a-0195ec87aa6e",
   "metadata": {},
   "outputs": [
    {
     "name": "stdout",
     "output_type": "stream",
     "text": [
      "True\n"
     ]
    }
   ],
   "source": [
    "def function_s(list_u):\n",
    "    # Check for ascending order\n",
    "    is_ascending = all(list_u[i] <= list_u[i + 1] for i in range(len(list_u) - 1))\n",
    "    \n",
    "    # Check for descending order\n",
    "    is_descending = all(list_u[i] >= list_u[i + 1] for i in range(len(list_u) - 1))\n",
    "    \n",
    "    # Return True if either ascending or descending order is detected\n",
    "    return is_ascending or is_descending\n",
    "\n",
    "# Example usage:\n",
    "list_un = [\"d\", \"c\", \"b\", \"a\"]\n",
    "check = function_s(list_un)\n",
    "print(check)  # Output: True\n"
   ]
  },
  {
   "cell_type": "markdown",
   "id": "d6c165de-b245-4178-991a-6f7caf82c5b5",
   "metadata": {},
   "source": [
    "17. Write a code to merge two sorted list into a single sorted list "
   ]
  },
  {
   "cell_type": "code",
   "execution_count": 47,
   "id": "406faf4c-7ec6-44c7-b14f-be2c55351007",
   "metadata": {},
   "outputs": [
    {
     "name": "stdout",
     "output_type": "stream",
     "text": [
      "['a', 'b', 'c', 'd', 'e', 'f', 'g', 'h']\n"
     ]
    }
   ],
   "source": [
    "def funtion_m(list1,list2):\n",
    "    merge_list=[]\n",
    "    i=0 \n",
    "    j=0\n",
    "    while i<len(list1) and j< len(list2):\n",
    "        if list1[i] < list2[j]:\n",
    "            merge_list.append(list1[i])\n",
    "            i+=1                  \n",
    "        else :\n",
    "            merge_list.append(list2[j])\n",
    "            j+=1\n",
    "            \n",
    "    merge_list.extend(list1[i:])\n",
    "    merge_list.extend(list2[j:])\n",
    "\n",
    "    return merge_list\n",
    "\n",
    "lis1 =  [ \"a\" , \"b\" , \"c\" , \"d\" ]\n",
    "lis2 = [ \"e\" , \"f\" , \"g\" , \"h\"]\n",
    "sorted = funtion_m(lis1,lis2)\n",
    "print(sorted)\n",
    "         "
   ]
  },
  {
   "cell_type": "markdown",
   "id": "883ccdf5-3313-434f-8eda-80c211b81f45",
   "metadata": {},
   "source": [
    "18. Implement a code to find the intersection of two given list."
   ]
  },
  {
   "cell_type": "code",
   "execution_count": 50,
   "id": "1a6b0182-fde2-48ea-af18-29e9c4619b8b",
   "metadata": {},
   "outputs": [
    {
     "name": "stdout",
     "output_type": "stream",
     "text": [
      "no element to intersect\n",
      "no element to intersect\n",
      "no element to intersect\n",
      "[4, 5, 7]\n"
     ]
    }
   ],
   "source": [
    "def i_n(list1,list2):\n",
    "    i_l= []\n",
    "    for i in list1:\n",
    "        if i in list2:\n",
    "            i_l.append(i)\n",
    "        else:\n",
    "            print(\"no element to intersect\")\n",
    "    return i_l\n",
    "lis1=[1,2,3,4,5,7]\n",
    "lis2=[4,5,6,7,8,7]\n",
    "intersected = i_n(lis1,lis2)\n",
    "print(intersected)"
   ]
  },
  {
   "cell_type": "markdown",
   "id": "e14e0d6b-3bdd-4034-ae7b-98abc5f4bb81",
   "metadata": {},
   "source": [
    "19. Create a code to find the union of two given lists."
   ]
  },
  {
   "cell_type": "code",
   "execution_count": 55,
   "id": "292ae960-0b61-4d3f-abb7-47b862ef3856",
   "metadata": {},
   "outputs": [
    {
     "name": "stdout",
     "output_type": "stream",
     "text": [
      "[1, 2, 3, 4, 5, 6, 7, 8, 9]\n"
     ]
    }
   ],
   "source": [
    "def union(list1,list2):\n",
    "    union_set = set(list1) | set(list2) \n",
    "    union_list= list(union_set)\n",
    "    return union_list\n",
    "lis1=[1,2,3,4,5]\n",
    "lis2=[5,6,7,8,9]\n",
    "u=union(lis1,lis2)\n",
    "print(u)"
   ]
  },
  {
   "cell_type": "markdown",
   "id": "7eea2489-069b-47ba-bcd9-3b4da969fa76",
   "metadata": {},
   "source": [
    "20. Create a code to shuffle a given list randomly without using any built-in shuffle function."
   ]
  },
  {
   "cell_type": "code",
   "execution_count": 62,
   "id": "266d343d-4a67-492c-a155-42dba56f30da",
   "metadata": {},
   "outputs": [
    {
     "name": "stdout",
     "output_type": "stream",
     "text": [
      "[2, 7, 3, 4, 5, 6, 1]\n"
     ]
    }
   ],
   "source": [
    "import numpy as np\n",
    "def s ( list_un):\n",
    "    shuffled_list = list_un[0: ]\n",
    "    n = len(shuffled_list)-1\n",
    "    for i in (n , 0 , -1):\n",
    "        if i > 0 :\n",
    "           j=np.random.randint(0,i)\n",
    "        else:\n",
    "            j = 0\n",
    "        shuffled_list[i], shuffled_list[j] = shuffled_list[j] , shuffled_list[i]\n",
    "    return shuffled_list\n",
    "list1 = [ 1,2,3,4,5,6,7] \n",
    "a = s(list1)\n",
    "print(a)"
   ]
  },
  {
   "cell_type": "markdown",
   "id": "28e48304-3b54-460e-a79e-952e093eb174",
   "metadata": {},
   "source": [
    "21.Create a code that take two tuple as input a return a new tuple containing elements that are common to both input tuples ."
   ]
  },
  {
   "cell_type": "code",
   "execution_count": 67,
   "id": "15430b4f-0011-48ff-ba1b-ffb5ded34336",
   "metadata": {},
   "outputs": [
    {
     "name": "stdout",
     "output_type": "stream",
     "text": [
      "no element to intersect\n",
      "no element to intersect\n",
      "no element to intersect\n",
      "[4, 5]\n"
     ]
    }
   ],
   "source": [
    "def group(tuple1,tuple2):\n",
    "    g=[]\n",
    "    for i in tuple1:\n",
    "        if i in tuple2:\n",
    "            g.append(i)\n",
    "        else :\n",
    "            print(\"no element to intersect\")\n",
    "    return g     \n",
    "t1 = ( 1,2,3,4,5)\n",
    "t2 = (4,5,6,7,8)\n",
    "a = group(t1,t2)\n",
    "print(a)"
   ]
  },
  {
   "cell_type": "markdown",
   "id": "6b062cc3-6406-474f-a3e1-88b6652d5a5d",
   "metadata": {},
   "source": [
    "22. Create a code that promts the user to enter two sets of integers seperated by comma.Then print the intersection of these two sets . "
   ]
  },
  {
   "cell_type": "code",
   "execution_count": 4,
   "id": "79127a49-b5b4-4b14-9545-6d1751e7cdc5",
   "metadata": {},
   "outputs": [
    {
     "name": "stdin",
     "output_type": "stream",
     "text": [
      "enter set1 {1,2,3}\n",
      "enter set2 {3,4,5}\n"
     ]
    },
    {
     "name": "stdout",
     "output_type": "stream",
     "text": [
      "no element to intersect\n",
      "no element to intersect\n",
      "[3]\n"
     ]
    }
   ],
   "source": [
    "def group(set1,set2):\n",
    "    g=[]\n",
    "    for i in set1:\n",
    "        if i in set2 and i not in g:\n",
    "            g.append(i)\n",
    "        if len(g)==0:\n",
    "            print(\"no element to intersect\")\n",
    "    return g     \n",
    "s1_str = input(\"enter set1\")\n",
    "s2_str = input(\"enter set2\")\n",
    "\n",
    "s1 = [int(num.strip()) for num in s1_str.strip('{}').split(',') if num.strip().isdigit()]\n",
    "s2 = [int(num.strip()) for num in s2_str.strip('{}').split(',') if num.strip().isdigit()]\n",
    "\n",
    "\n",
    "\n",
    "a = group(s1,s2)\n",
    "print(a)"
   ]
  },
  {
   "cell_type": "markdown",
   "id": "fc6e6471-7c08-4112-a061-2223fefb75bd",
   "metadata": {},
   "source": [
    "23. Write a code to concatenate two tuples.The function should take two tuples as input and return a new tuple containing element from both input tuples "
   ]
  },
  {
   "cell_type": "code",
   "execution_count": 7,
   "id": "ebcac41b-8bf4-4635-8b7a-636971c649e9",
   "metadata": {},
   "outputs": [
    {
     "name": "stdin",
     "output_type": "stream",
     "text": [
      "enter tuple1 here (1,2,3,4)\n",
      "enter tuple2 here  (4,5,6)\n"
     ]
    },
    {
     "name": "stdout",
     "output_type": "stream",
     "text": [
      "('(1', '2', '3', '4)', '(4', '5', '6)')\n"
     ]
    }
   ],
   "source": [
    "def g (tuple1,tuple2):\n",
    "    tuple1 = tuple1.strip().split(',')\n",
    "    tuple2 = tuple2.strip().split(',')\n",
    "    \n",
    "    # Concatenate the tuples\n",
    "    concatenated_tuple = tuple1 + tuple2\n",
    "    return tuple(concatenated_tuple)\n",
    "t1=input(\"enter tuple1 here\")\n",
    "\n",
    "t2=input(\"enter tuple2 here \")\n",
    "concate = g(t1,t2)\n",
    "print(concate)\n",
    "    \n"
   ]
  },
  {
   "cell_type": "markdown",
   "id": "05751834-bdc3-405a-8966-6ae24166e147",
   "metadata": {},
   "source": [
    "24. Develope a code that promts the user to input two sets of strings. Then print the element that are present in first set but not in second set ."
   ]
  },
  {
   "cell_type": "code",
   "execution_count": 18,
   "id": "dd19eb59-0f6a-47f4-948f-cb8d25c5b775",
   "metadata": {},
   "outputs": [
    {
     "name": "stdin",
     "output_type": "stream",
     "text": [
      "enter set1 here with space seperated  1 2 3 4 \n",
      "enter set2 here with space seperated   4 5 6 7\n"
     ]
    },
    {
     "name": "stdout",
     "output_type": "stream",
     "text": [
      "['1', '2', '3']\n"
     ]
    }
   ],
   "source": [
    "def function_a_minus_b(set1,set2):\n",
    "    set1 = set(set1)\n",
    "    set2 = set(set2)\n",
    "    \n",
    "    # Find elements in set1 but not in set2\n",
    "    result = list(set1-set2)\n",
    "        \n",
    "    return result \n",
    "\n",
    "s1 = input(\"enter set1 here with space seperated without brackets  \").split()\n",
    "s2 = input(\"enter set2 here with space seperated without brackets   \").split()\n",
    "\n",
    "a_minus_b= function_a_minus_b(s1, s2)\n",
    "print(a_minus_b)\n",
    "# eneter the input without bracets \n",
    "\n",
    "    "
   ]
  },
  {
   "cell_type": "markdown",
   "id": "5c4cc93f-a23d-4f86-b3a2-42fe30a5a1a0",
   "metadata": {},
   "source": [
    "25 . Create a code that take two tuples and integers as input.The function should return a new tupele containing element from the original tuple within the specified range of index.  \n"
   ]
  },
  {
   "cell_type": "code",
   "execution_count": 23,
   "id": "d70d0a31-66e7-42b5-b9a4-cf8604df043f",
   "metadata": {},
   "outputs": [
    {
     "name": "stdin",
     "output_type": "stream",
     "text": [
      "enter tuple here  (1,2,3,4)\n",
      "enter start_index 0\n",
      "enter end_index 2\n"
     ]
    },
    {
     "name": "stdout",
     "output_type": "stream",
     "text": [
      "(1, 2)\n"
     ]
    }
   ],
   "source": [
    "def function_x ( tuple_x , start_index , end_index):\n",
    "    return tuple_x[start_index : end_index]\n",
    "\n",
    "t= input(\"enter tuple here \")\n",
    "s_index= int(input(\"enter start_index\"))\n",
    "e_index = int(input(\"enter end_index\"))\n",
    "t=eval(t)\n",
    "r_e = function_x(t,s_index , e_index)\n",
    "print(r_e)"
   ]
  },
  {
   "cell_type": "markdown",
   "id": "d6c04cc5-f8ff-4bde-ab2c-0625ac8628df",
   "metadata": {},
   "source": [
    "26.Create a code that prompts the user to input two sets of characters.Then print the union of these two sets "
   ]
  },
  {
   "cell_type": "code",
   "execution_count": 28,
   "id": "6df1379e-54f4-4848-b6f1-27211927acbe",
   "metadata": {},
   "outputs": [
    {
     "name": "stdin",
     "output_type": "stream",
     "text": [
      "enter set1 here  {1,2,3,4,5}\n",
      "enter set3 here  {5,6,7}\n"
     ]
    },
    {
     "name": "stdout",
     "output_type": "stream",
     "text": [
      "['{', '1', ',', '2', '3', '4', '5', '}', '6', '7']\n"
     ]
    }
   ],
   "source": [
    "def union (set1,set2):\n",
    "    l1= list(set1)\n",
    "    l2= list(set2)\n",
    "    u_s= []\n",
    "    for i in l1+l2:\n",
    "        if i not in u_s:\n",
    "            u_s.append(i)\n",
    "    return u_s\n",
    "s1= input(\"enter set1 here \")\n",
    "s2= input(\"enter set3 here \")\n",
    "u= union(s1,s2)\n",
    "print(u)\n",
    "    \n",
    "    "
   ]
  },
  {
   "cell_type": "markdown",
   "id": "bd7610cf-5e68-4e85-8e66-320aeb70ad6e",
   "metadata": {},
   "source": [
    "27.Develope a code that take a tuple of integer as input .The function should return the maximum and minimum value from the tuple using tuple unpacking."
   ]
  },
  {
   "cell_type": "code",
   "execution_count": 31,
   "id": "4b4c2a77-921b-403c-8417-953f629d6b61",
   "metadata": {},
   "outputs": [
    {
     "name": "stdin",
     "output_type": "stream",
     "text": [
      "enter tuple here (1,2,3,4,5)\n"
     ]
    },
    {
     "name": "stdout",
     "output_type": "stream",
     "text": [
      "max value : 5\n",
      "min value : 1\n"
     ]
    }
   ],
   "source": [
    "def function_y (tuple_x):\n",
    "    max_value= max(tuple_x)\n",
    "    min_value= min(tuple_x)\n",
    "\n",
    "    return max_value, min_value \n",
    "t=eval(input(\"enter tuple here\"))\n",
    "maxs_value,mins_value= function_y(t)\n",
    "print(\"max value :\", maxs_value)\n",
    "print(\"min value :\", mins_value)"
   ]
  },
  {
   "cell_type": "markdown",
   "id": "7127dbb8-7cb5-4a33-a3c4-638cc3fd7b7b",
   "metadata": {},
   "source": [
    "28.Create a code that defines two set of integers .Then print the union , intersection and difference of these two sets . "
   ]
  },
  {
   "cell_type": "code",
   "execution_count": 34,
   "id": "ee2d154a-f246-44e4-933c-55d330a3ef01",
   "metadata": {},
   "outputs": [
    {
     "name": "stdout",
     "output_type": "stream",
     "text": [
      "([1, 2, 3, 4, 5, 6, 7, 8], [4, 5], [1, 2, 3], [8, 6, 7])\n"
     ]
    }
   ],
   "source": [
    "def function_x(set1,set2):\n",
    "    #union \n",
    "    list1= list(set1)\n",
    "    list2= list(set2)\n",
    "    u_s =[]\n",
    "    for i in list1+list2:\n",
    "        if i not in u_s:\n",
    "            u_s.append(i)\n",
    "    \n",
    "\n",
    "    #intersection\n",
    "    c_e=[]\n",
    "    for i in set1:\n",
    "        if i in set2:\n",
    "            c_e.append(i)\n",
    "        \n",
    "\n",
    "\n",
    "\n",
    "     #set1-set2\n",
    "    aminusb =list(set1-set2)\n",
    "\n",
    "\n",
    "\n",
    "     #set2-set1\n",
    "    bminusa=list(set2-set1)\n",
    "    return u_s , c_e , aminusb , bminusa\n",
    "\n",
    "s1={1,2,3,4,5}\n",
    "s2={4,5,6,7,8}\n",
    "f=function_x(s1,s2)\n",
    "print(f)\n"
   ]
  },
  {
   "cell_type": "markdown",
   "id": "d784ae64-f344-4d24-ba30-a27afe50ed2e",
   "metadata": {},
   "source": [
    "29.Create a code that take a tuple and element as a input .The function should return the count of occurence of the given element in tuple."
   ]
  },
  {
   "cell_type": "code",
   "execution_count": 37,
   "id": "279c5a97-ec69-4745-bf8a-45dda9aa7917",
   "metadata": {},
   "outputs": [
    {
     "name": "stdout",
     "output_type": "stream",
     "text": [
      "4\n"
     ]
    }
   ],
   "source": [
    "def f_c ( tuple_x , element_x):\n",
    "    count=0\n",
    "    for i in tuple_x:\n",
    "        if i == element_x:\n",
    "            count += 1\n",
    "    return count\n",
    "t=(1,2,3,4,5,1,1,1,)\n",
    "e = 1\n",
    "count = f_c(t,e)\n",
    "print(count)"
   ]
  },
  {
   "cell_type": "markdown",
   "id": "4b7fa672-1006-40cd-b6d7-34daf9957c3b",
   "metadata": {},
   "source": [
    "30. Develope a code that promts the user to input two sets of string.Then print the symmetric difference of these two sets "
   ]
  },
  {
   "cell_type": "code",
   "execution_count": 40,
   "id": "b43e0d07-d87f-4445-a3ca-6481b422c99b",
   "metadata": {},
   "outputs": [
    {
     "name": "stdout",
     "output_type": "stream",
     "text": [
      "['hello', 'hii', 'mohan', 'sameer', 'tarun', ' ronit']\n"
     ]
    }
   ],
   "source": [
    "def symmetric_difference(set1,set2):\n",
    "\n",
    "    s_d=[]\n",
    "    for i in set1:\n",
    "        if i not in set2:\n",
    "            s_d.append(i)\n",
    "    for i in set2:\n",
    "        if i not in set1:\n",
    "            s_d.append(i)\n",
    "    return s_d\n",
    "s1={ \"hello\", \"hii\" , \"mohan\" , \"sohan\"}\n",
    "s2={ \"sohan\" , \"tarun\" , \"sameer\" ,\" ronit\"}\n",
    "f= symmetric_difference(s1,s2)\n",
    "print(f)"
   ]
  },
  {
   "cell_type": "markdown",
   "id": "c0a4c9a6-a0ce-4a6a-8346-72432371b618",
   "metadata": {},
   "source": [
    "31. Create a code that takes a list of words as input and return a dictionary where the keys are the unique words and the values are the frequencies of those words in the input list.  "
   ]
  },
  {
   "cell_type": "code",
   "execution_count": 43,
   "id": "18ac4ead-eb89-4c27-be4e-bbc7bc08fb9c",
   "metadata": {},
   "outputs": [
    {
     "name": "stdout",
     "output_type": "stream",
     "text": [
      "{'apple': 3, 'banana': 2, 'orange': 1}\n"
     ]
    }
   ],
   "source": [
    "def word_frequencies(word_list):\n",
    "    frequency_dict = {}\n",
    "    for word in word_list:\n",
    "        if word in frequency_dict:\n",
    "            frequency_dict[word] += 1#doubt \n",
    "        else:\n",
    "            frequency_dict[word] = 1\n",
    "    return frequency_dict\n",
    "\n",
    "# Example usage:\n",
    "words = [\"apple\", \"banana\", \"apple\", \"orange\", \"banana\", \"apple\"]\n",
    "result = word_frequencies(words)\n",
    "print(result)\n",
    "\n",
    "\n"
   ]
  },
  {
   "cell_type": "markdown",
   "id": "d4139a32-6ef9-4850-a314-c532b029c745",
   "metadata": {},
   "source": [
    "32. Create a code that take two dictionaries as input and merges them into a single dictionary if there are common keys , the values should be added together."
   ]
  },
  {
   "cell_type": "code",
   "execution_count": 48,
   "id": "8ad51553-6e93-4816-a9aa-c0c686f03151",
   "metadata": {},
   "outputs": [
    {
     "name": "stdout",
     "output_type": "stream",
     "text": [
      "Merged Dictionary: {'a': 1, 'b': 5, 'c': 7, 'd': 5}\n"
     ]
    }
   ],
   "source": [
    "def merge_dicts(dict1, dict2):\n",
    "    merged_dict = dict1.copy()  # Start with a copy of dict1\n",
    "    \n",
    "    for key in dict2:\n",
    "        if key in merged_dict:\n",
    "            merged_dict[key] += dict2[key]  # Add values if key exists in dict1\n",
    "        else:\n",
    "            merged_dict[key] = dict2[key]   # Otherwise, add key-value pair\n",
    "    \n",
    "    return merged_dict\n",
    "\n",
    "# Example usage:\n",
    "dict1 = {'a': 1, 'b': 2, 'c': 3}\n",
    "dict2 = {'b': 3, 'c': 4, 'd': 5}\n",
    "\n",
    "merged_dict = merge_dicts(dict1, dict2)\n",
    "print(\"Merged Dictionary:\", merged_dict)\n"
   ]
  },
  {
   "cell_type": "markdown",
   "id": "42405e7b-0235-4131-a714-62f284efe0ab",
   "metadata": {},
   "source": [
    "33.Write a code to access a value in a nested dictionary.The function should take the dictionary and the list of keys as input,and return the correspondng value.If any of the keys do not exist in the dictionary,the function should return None."
   ]
  },
  {
   "cell_type": "code",
   "execution_count": 53,
   "id": "1e7458d8-74f7-4aa1-b333-05cf6286b6d4",
   "metadata": {},
   "outputs": [
    {
     "name": "stdout",
     "output_type": "stream",
     "text": [
      "Nested Value: value\n",
      "Nested Value: None\n"
     ]
    }
   ],
   "source": [
    "def get_nested_value(dictionary, keys):\n",
    "    \n",
    "    current = dictionary\n",
    "    \n",
    "    for key in keys:\n",
    "        if isinstance(current, dict) and key in current:\n",
    "            current = current[key]\n",
    "        else:\n",
    "            return None\n",
    "    \n",
    "    return current\n",
    "\n",
    "# Example usage:\n",
    "nested_dict = {\n",
    "    'first': {\n",
    "        'second': {\n",
    "            'third': 'value'\n",
    "        }\n",
    "    }\n",
    "}\n",
    "\n",
    "keys = ['first', 'second', 'third']\n",
    "result = get_nested_value(nested_dict, keys)\n",
    "print(\"Nested Value:\", result)  # Output: Nested Value: value\n",
    "\n",
    "keys = ['first', 'second', 'fourth']\n",
    "result = get_nested_value(nested_dict, keys)\n",
    "print(\"Nested Value:\", result)  # Output: Nested Value: None (key 'fourth' does not exist)\n"
   ]
  },
  {
   "cell_type": "markdown",
   "id": "2a1ebb73-6d30-447a-9b6d-1ae4847d3f6f",
   "metadata": {},
   "source": [
    "34. Write a code that take a dictionary as input and return a sorted version of it based on the values.You can chosse weather to sort in ascending or descending order."
   ]
  },
  {
   "cell_type": "code",
   "execution_count": 56,
   "id": "5f8e605a-cae0-446f-bb68-52ac111e3faa",
   "metadata": {},
   "outputs": [
    {
     "name": "stdout",
     "output_type": "stream",
     "text": [
      "Sorted Dictionary (Ascending): {'date': 1, 'banana': 2, 'apple': 5, 'cherry': 8}\n"
     ]
    }
   ],
   "source": [
    "def sort_dict_by_values(d, ascending=True):\n",
    "    sorted_dict = dict(sorted(d.items(), key=lambda item: item[1], reverse=not ascending))\n",
    "    return sorted_dict\n",
    "\n",
    "# Example dictionary\n",
    "input_dict = {'apple': 5, 'banana': 2, 'cherry': 8, 'date': 1}\n",
    "\n",
    "# Sort dictionary by values in ascending order\n",
    "sorted_dict_asc = sort_dict_by_values(input_dict, ascending=True)\n",
    "print(\"Sorted Dictionary (Ascending):\", sorted_dict_asc)\n"
   ]
  },
  {
   "cell_type": "markdown",
   "id": "58b5e082-2718-4d20-bfae-de2510b827b7",
   "metadata": {},
   "source": [
    "35.Write a code that inverts a dictionary,swapping keys and values.Ensure that the inverted dictionary correctedly handles cases where multiple keys have the same values by storing the keys as a list in the inverted dictionary."
   ]
  },
  {
   "cell_type": "code",
   "execution_count": 59,
   "id": "da001ba1-8eed-4887-93ec-fd7fe415d80c",
   "metadata": {},
   "outputs": [
    {
     "name": "stdout",
     "output_type": "stream",
     "text": [
      "Original Dictionary: {'a': 1, 'b': 2, 'c': 1, 'd': 3, 'e': 2}\n",
      "Inverted Dictionary: {1: ['a', 'c'], 2: ['b', 'e'], 3: 'd'}\n"
     ]
    }
   ],
   "source": [
    "def invert_dict(d):\n",
    "    inverted_dict = {}\n",
    "    \n",
    "    for key, value in d.items():\n",
    "        if value in inverted_dict:\n",
    "            if isinstance(inverted_dict[value], list):\n",
    "                inverted_dict[value].append(key)\n",
    "            else:\n",
    "                inverted_dict[value] = [inverted_dict[value], key]\n",
    "        else:\n",
    "            inverted_dict[value] = key\n",
    "    \n",
    "    return inverted_dict\n",
    "\n",
    "# Example dictionary\n",
    "input_dict = {'a': 1, 'b': 2, 'c': 1, 'd': 3, 'e': 2}\n",
    "\n",
    "# Invert the dictionary\n",
    "inverted_dict = invert_dict(input_dict)\n",
    "print(\"Original Dictionary:\", input_dict)\n",
    "print(\"Inverted Dictionary:\", inverted_dict)\n"
   ]
  },
  {
   "cell_type": "code",
   "execution_count": null,
   "id": "9750986a-77e3-43f5-9577-586972b5e70d",
   "metadata": {},
   "outputs": [],
   "source": []
  }
 ],
 "metadata": {
  "kernelspec": {
   "display_name": "Python 3 (ipykernel)",
   "language": "python",
   "name": "python3"
  },
  "language_info": {
   "codemirror_mode": {
    "name": "ipython",
    "version": 3
   },
   "file_extension": ".py",
   "mimetype": "text/x-python",
   "name": "python",
   "nbconvert_exporter": "python",
   "pygments_lexer": "ipython3",
   "version": "3.11.7"
  }
 },
 "nbformat": 4,
 "nbformat_minor": 5
}
